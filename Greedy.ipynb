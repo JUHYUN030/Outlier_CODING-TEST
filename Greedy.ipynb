{
  "nbformat": 4,
  "nbformat_minor": 0,
  "metadata": {
    "colab": {
      "name": "Greedy.ipynb",
      "provenance": [],
      "authorship_tag": "ABX9TyPal21HYoxtFC9dtpi2t1px",
      "include_colab_link": true
    },
    "kernelspec": {
      "name": "python3",
      "display_name": "Python 3"
    },
    "language_info": {
      "name": "python"
    }
  },
  "cells": [
    {
      "cell_type": "markdown",
      "metadata": {
        "id": "view-in-github",
        "colab_type": "text"
      },
      "source": [
        "<a href=\"https://colab.research.google.com/github/JUHYUN030/Outlier_CODING-TEST/blob/main/Greedy.ipynb\" target=\"_parent\"><img src=\"https://colab.research.google.com/assets/colab-badge.svg\" alt=\"Open In Colab\"/></a>"
      ]
    },
    {
      "cell_type": "markdown",
      "metadata": {
        "id": "hCBuHnYQnl9u"
      },
      "source": [
        "# 그리디 알고리즘\n",
        "- 현재 상황에서 지금 당장 좋은 것만 고르는 방법"
      ]
    },
    {
      "cell_type": "markdown",
      "metadata": {
        "id": "UVnrTPbWn2DH"
      },
      "source": [
        "## 3-1. 거스름돈"
      ]
    },
    {
      "cell_type": "code",
      "metadata": {
        "colab": {
          "base_uri": "https://localhost:8080/"
        },
        "id": "X1xkVdy8ned-",
        "outputId": "909eee80-4756-4a99-f081-f36ce004e4b9"
      },
      "source": [
        "# 가장 큰 화폐 단위부터 돈을 거슬러 주기\n",
        "\n",
        "n = 1260  # 예\n",
        "count = 0\n",
        "\n",
        "coin_types = [500, 100, 50, 10]\n",
        "\n",
        "for coin in coin_types:\n",
        "  count += n // coin\n",
        "  n %= coin\n",
        "print(count)"
      ],
      "execution_count": 3,
      "outputs": [
        {
          "output_type": "stream",
          "name": "stdout",
          "text": [
            "6\n"
          ]
        }
      ]
    },
    {
      "cell_type": "markdown",
      "metadata": {
        "id": "LYpuCUiupou1"
      },
      "source": [
        "# 3-2. 큰 수의 법칙"
      ]
    },
    {
      "cell_type": "code",
      "metadata": {
        "colab": {
          "base_uri": "https://localhost:8080/"
        },
        "id": "Mtsa1oK6qB1F",
        "outputId": "ffa90e39-8a1e-44b0-9056-0d1a4962e69c"
      },
      "source": [
        "# 반복되는 수열에 대해서 파악\n",
        "\n",
        "# N, M, K를 공백으로 구분하여 입력받기\n",
        "n, m, k = map(int, input().split())\n",
        "\n",
        "# N개의 수를 공백으로 구분하여 입력받기\n",
        "data = list(map(int, input().split()))\n",
        "\n",
        "data.sort()         # 입력받은 수 정렬\n",
        "first = data[n-1]   # 가장 큰 수\n",
        "second = data[n-2]  # 두 번째로 큰 수\n",
        "\n",
        "result = 0\n",
        "\n",
        "while True:\n",
        "  for i in range(k)  :# 가장 큰 수를 K번 더하기\n",
        "     if m==0:\n",
        "       break\n",
        "     result += first\n",
        "     m -= 1\n",
        "\n",
        "  if m ==0:   \n",
        "    break\n",
        "  result += second    # 두 번째로 큰 수를 한번 더하기\n",
        "  m -= 1\n",
        "\n",
        "print(result)"
      ],
      "execution_count": 14,
      "outputs": [
        {
          "output_type": "stream",
          "name": "stdout",
          "text": [
            "5 8 3\n",
            "2 4 5 4 6\n",
            "46\n"
          ]
        }
      ]
    },
    {
      "cell_type": "markdown",
      "metadata": {
        "id": "SmrBBo_33Lx3"
      },
      "source": [
        "# 3-3. 숫자 카드 게임"
      ]
    },
    {
      "cell_type": "code",
      "metadata": {
        "colab": {
          "base_uri": "https://localhost:8080/"
        },
        "id": "b4Hms1CP0Lqq",
        "outputId": "556d6b81-cb49-4cec-d58a-374fe1f55d5b"
      },
      "source": [
        "# 각 행마다 가장 작은 수를 찾은 뒤에 그 수 중에서 가장 큰 수 찾기\n",
        "\n",
        "n, m = map(int, input().split())\n",
        "\n",
        "result = 0\n",
        "\n",
        "for i in range(n):    \n",
        "  data = list(map(int, input().split()))    # 현재 줄에서 '가장 작은 수' 찾기\n",
        "  min_value = 10001\n",
        "  for a in data:\n",
        "    min_value = min(min_value, a)\n",
        "  result = max(result, min_value)           # '가장 작은 수'들 중에서 가장 큰 수 찾기\n",
        "\n",
        "print(result\n",
        "      )"
      ],
      "execution_count": 15,
      "outputs": [
        {
          "output_type": "stream",
          "name": "stdout",
          "text": [
            "3 3 \n",
            "3 1 2\n",
            "4 1 4\n",
            "2 2 2\n",
            "2\n"
          ]
        }
      ]
    },
    {
      "cell_type": "markdown",
      "metadata": {
        "id": "tsLSE2Us98Nr"
      },
      "source": [
        "## 3-4. 1이 될 때까지"
      ]
    },
    {
      "cell_type": "code",
      "metadata": {
        "colab": {
          "base_uri": "https://localhost:8080/"
        },
        "id": "wgMHGCPQ9_YP",
        "outputId": "0b90d53b-2f7d-46cd-93d7-f3f25926bdc6"
      },
      "source": [
        "# 최대한 많이 나누기\n",
        "\n",
        "n, k = map(int, input().split())\n",
        "result = 0\n",
        "\n",
        "while n>=k:\n",
        "  while n%k != 0:\n",
        "    n -= 1\n",
        "    result += 1\n",
        "  n //= k\n",
        "  result += 1\n",
        "\n",
        "while n>1:\n",
        "  n -= 1\n",
        "  result += 1\n",
        "\n",
        "print(result)"
      ],
      "execution_count": 16,
      "outputs": [
        {
          "output_type": "stream",
          "name": "stdout",
          "text": [
            "25 5\n",
            "2\n"
          ]
        }
      ]
    }
  ]
}