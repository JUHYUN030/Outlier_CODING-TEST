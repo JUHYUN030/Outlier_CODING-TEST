{
  "nbformat": 4,
  "nbformat_minor": 0,
  "metadata": {
    "colab": {
      "name": "DFS/BFS.ipynb",
      "provenance": [],
      "authorship_tag": "ABX9TyPnb2hx7AeP8zzmWV9uOGxk",
      "include_colab_link": true
    },
    "kernelspec": {
      "name": "python3",
      "display_name": "Python 3"
    },
    "language_info": {
      "name": "python"
    }
  },
  "cells": [
    {
      "cell_type": "markdown",
      "metadata": {
        "id": "view-in-github",
        "colab_type": "text"
      },
      "source": [
        "<a href=\"https://colab.research.google.com/github/JUHYUN030/Outlier_CODING-TEST/blob/main/DFS_BFS.ipynb\" target=\"_parent\"><img src=\"https://colab.research.google.com/assets/colab-badge.svg\" alt=\"Open In Colab\"/></a>"
      ]
    },
    {
      "cell_type": "markdown",
      "metadata": {
        "id": "ybZmnC6jLoUY"
      },
      "source": [
        "# cH13.Q18 괄호변환\n"
      ]
    },
    {
      "cell_type": "code",
      "metadata": {
        "id": "cIMqmbunNFo9"
      },
      "source": [
        "def solution(p):\n",
        "    # 1번\n",
        "    if not p:\n",
        "        return \"\"\n",
        "\n",
        "    # 2번\n",
        "    u,v = seperate(p)\n",
        "\n",
        "    # 3번\n",
        "    if isBalanced(u):\n",
        "        #seperate(v)\n",
        "        # 3-1\n",
        "        return u + solution(v)\n",
        "    # 4번\n",
        "    else:\n",
        "        # 4-1\n",
        "        answer = '('\n",
        "        # 4-2\n",
        "        answer += solution(v)\n",
        "        # 4-3\n",
        "        answer += ')'\n",
        "\n",
        "        # 4-4\n",
        "        for i in u[1:-1]:\n",
        "            if i == '(':\n",
        "                answer += ')'\n",
        "            else:\n",
        "                answer += '('\n",
        "        # 4-5\n",
        "        return answer\n",
        "\n",
        "# 문자열을 u와 v로 분리하는 함수\n",
        "def seperate(p):\n",
        "    left_count = 0\n",
        "    right_count = 0\n",
        "    for idx, i in enumerate(p):\n",
        "        if i == '(':\n",
        "            left_count += 1\n",
        "        elif i == ')':\n",
        "            right_count += 1\n",
        "        # 더이상 나눠질 수 없는 올바른 괄호문자열 찾음\n",
        "        if left_count == right_count:\n",
        "            return p[:idx + 1], p[idx + 1:] # u,v\n",
        "\n",
        "\n",
        "def isBalanced(u):\n",
        "    stack = []\n",
        "\n",
        "    for i in u:\n",
        "        if i == '(':\n",
        "            stack.append(i)\n",
        "        else:\n",
        "            if not stack:\n",
        "                return False\n",
        "            stack.pop()\n",
        "    return True"
      ],
      "execution_count": null,
      "outputs": []
    },
    {
      "cell_type": "markdown",
      "metadata": {
        "id": "pYL3kkVgg3OP"
      },
      "source": [
        "# 백준 10773 : 제로\n",
        "나코더 기장 재민이는 동아리 회식을 준비하기 위해서 장부를 관리하는 중이다.\n",
        "\n",
        "재현이는 재민이를 도와서 돈을 관리하는 중인데, 애석하게도 항상 정신없는     재현이는 돈을 실수로 잘못 부르는 사고를 치기 일쑤였다.  \n",
        "\n",
        "재현이는 잘못된 수를 부를 때마다 0을 외쳐서, 가장 최근에 재민이가 쓴 수를   지우게 시킨다.\n",
        "\n",
        "재민이는 이렇게 모든 수를 받아 적은 후 그 수의 합을 알고 싶어 한다. 재민이를 도와주자!\n",
        "\n",
        "https://www.acmicpc.net/problem/10773 "
      ]
    },
    {
      "cell_type": "code",
      "metadata": {
        "colab": {
          "base_uri": "https://localhost:8080/"
        },
        "id": "WMqYw83fQ5ZC",
        "outputId": "760caa18-e3fd-4a34-f9aa-110db5154550"
      },
      "source": [
        "count = int(input())  \n",
        "stack = []\n",
        "\n",
        "for i in range(count):\n",
        "  num = int(input())\n",
        "  if num==0:           # 0이면 삭제\n",
        "    stack.pop()\n",
        "  else:\n",
        "    stack.append(num)\n",
        "print(sum(stack))      # 최종적으로 적어 낸 수 합"
      ],
      "execution_count": null,
      "outputs": [
        {
          "output_type": "stream",
          "name": "stdout",
          "text": [
            "4\n",
            "3\n",
            "0\n",
            "4\n",
            "0\n",
            "0\n"
          ]
        }
      ]
    }
  ]
}